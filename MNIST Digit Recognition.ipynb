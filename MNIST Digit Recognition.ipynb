{
 "cells": [
  {
   "cell_type": "markdown",
   "id": "80bd23ec-3948-4b8a-b39a-739660071192",
   "metadata": {},
   "source": [
    "# MNIST Digits Recognition System : Neural Networks"
   ]
  },
  {
   "cell_type": "markdown",
   "id": "aa6e563b-e9a7-4fc2-82e1-a5e58f36973a",
   "metadata": {},
   "source": [
    "### import "
   ]
  },
  {
   "cell_type": "code",
   "execution_count": 1,
   "id": "8baa0c90-3395-4523-9c2b-28e434e1493e",
   "metadata": {},
   "outputs": [],
   "source": [
    "import torch\n",
    "import torch.nn as nn\n",
    "import torch.optim as optim\n",
    "import torch.nn.functional as F\n",
    "from torch.utils.data import DataLoader\n",
    "import torchvision.datasets as datasets\n",
    "import torchvision.transforms as transforms"
   ]
  },
  {
   "cell_type": "markdown",
   "id": "4b47ccfd-f47b-49fd-89db-04c48aeff12f",
   "metadata": {},
   "source": [
    "### Creating Fully Connected Neural Network"
   ]
  },
  {
   "cell_type": "code",
   "execution_count": 31,
   "id": "0c59d33a-fac0-463d-ac89-a4bf664940da",
   "metadata": {},
   "outputs": [],
   "source": [
    "class NN(nn.Module):\n",
    "    # initial declaration function\n",
    "    def __init__(self, input_size, num_classes):\n",
    "        # calling initialization method of super class\n",
    "        super(NN, self).__init__()\n",
    "        self.fc1 = nn.Linear(input_size, 50)\n",
    "        self.fc2 = nn.Linear(50, num_classes)\n",
    "\n",
    "    def forward(self, x):\n",
    "        x = F.relu(self.fc1(x))\n",
    "        x = self.fc2(x)\n",
    "        return x\n",
    "        "
   ]
  },
  {
   "cell_type": "code",
   "execution_count": 32,
   "id": "04465ffa-134e-4665-b672-592fe6d543bb",
   "metadata": {},
   "outputs": [
    {
     "name": "stdout",
     "output_type": "stream",
     "text": [
      "torch.Size([64, 10])\n"
     ]
    }
   ],
   "source": [
    "model = NN(784, 10)\n",
    "x = torch.randn(64, 784)\n",
    "print(model(x).shape)"
   ]
  },
  {
   "cell_type": "code",
   "execution_count": 33,
   "id": "452d6add-d32c-4bba-8188-07e7ac1086a2",
   "metadata": {},
   "outputs": [],
   "source": [
    "# Set device\n",
    "device = torch.device('cuda' if torch.cuda.is_available() else 'cpu')"
   ]
  },
  {
   "cell_type": "markdown",
   "id": "695faeef-526f-463b-a0bd-7cebea957da1",
   "metadata": {},
   "source": [
    "### Hyper parameters"
   ]
  },
  {
   "cell_type": "code",
   "execution_count": 43,
   "id": "ce37a52b-ce36-40fd-9aa3-bf30af8e93c7",
   "metadata": {},
   "outputs": [],
   "source": [
    "input_size = 784\n",
    "num_classes = 10\n",
    "learning_rate = 0.001\n",
    "batch_size = 64\n",
    "num_epochs = 10"
   ]
  },
  {
   "cell_type": "markdown",
   "id": "f37c15ea-4e07-40a8-a5d5-b458cbac88ca",
   "metadata": {},
   "source": [
    "### Load Data"
   ]
  },
  {
   "cell_type": "code",
   "execution_count": 44,
   "id": "a007aa4a-ea86-4da7-b7a0-091cfe85cf01",
   "metadata": {},
   "outputs": [],
   "source": [
    "# Train dataset\n",
    "train_data = datasets.MNIST(root=\"**/Dataset/\", train=True, transform=transforms.ToTensor(), download=False)\n",
    "train_loader = DataLoader(dataset=train_data, batch_size=batch_size, shuffle=True)\n",
    "# Test dataset\n",
    "test_data = datasets.MNIST(root=\"**/Dataset/\", train=False, transform=transforms.ToTensor(), download=True)\n",
    "test_loader = DataLoader(dataset=test_data, batch_size=batch_size, shuffle=True)"
   ]
  },
  {
   "cell_type": "markdown",
   "id": "3bdc7ae0-68a8-49b1-ad19-73fd72c6b41b",
   "metadata": {},
   "source": [
    "### Initialize Network"
   ]
  },
  {
   "cell_type": "code",
   "execution_count": 45,
   "id": "41daba88-1103-42bb-82d9-768abb31a86d",
   "metadata": {},
   "outputs": [],
   "source": [
    "model = NN(input_size=input_size, num_classes=num_classes).to(device)"
   ]
  },
  {
   "cell_type": "markdown",
   "id": "0ee2d708-44c9-4a54-a20d-a0cc9678706b",
   "metadata": {},
   "source": [
    "### Loss and Optimizer"
   ]
  },
  {
   "cell_type": "code",
   "execution_count": 46,
   "id": "b73e9fb7-db3f-477a-9b21-a4ddc567142f",
   "metadata": {},
   "outputs": [],
   "source": [
    "criterion = nn.CrossEntropyLoss()\n",
    "optimizer = optim.Adam(model.parameters(), lr=learning_rate)"
   ]
  },
  {
   "cell_type": "markdown",
   "id": "5ff132ba-5ec2-4d30-a6b0-3cf56a2e8531",
   "metadata": {},
   "source": [
    "### Train Network"
   ]
  },
  {
   "cell_type": "code",
   "execution_count": 47,
   "id": "2d6dc61a-4ecb-4541-96aa-fdcaea9e68bd",
   "metadata": {},
   "outputs": [
    {
     "name": "stdout",
     "output_type": "stream",
     "text": [
      "Epoch: 1\n",
      "Epoch: 2\n",
      "Epoch: 3\n",
      "Epoch: 4\n",
      "Epoch: 5\n",
      "Epoch: 6\n",
      "Epoch: 7\n",
      "Epoch: 8\n",
      "Epoch: 9\n",
      "Epoch: 10\n"
     ]
    }
   ],
   "source": [
    "for epoch in range(num_epochs):\n",
    "    print(f\"Epoch: {epoch+1}\")\n",
    "    for batch_idx, (data, target) in enumerate(train_loader):\n",
    "        # Get Data to Cuda\n",
    "        data = data.to(device=device)\n",
    "        target = target.to(device=device)\n",
    "        # Reshape to vectorize\n",
    "        data = data.reshape(data.shape[0], -1) # vectorize [28,28] to 784\n",
    "\n",
    "        # forward\n",
    "        scores = model(data)\n",
    "        loss = criterion(scores, target)\n",
    "\n",
    "        # backward\n",
    "        optimizer.zero_grad()\n",
    "        loss.backward()\n",
    "\n",
    "        # gradient descent or adam step\n",
    "        optimizer.step()"
   ]
  },
  {
   "cell_type": "markdown",
   "id": "f9eedf12-fb3f-4949-89e4-ee80c0c4c197",
   "metadata": {},
   "source": [
    "### Accuracy on training  & test dataset"
   ]
  },
  {
   "cell_type": "code",
   "execution_count": 48,
   "id": "43250539-11ec-4cf5-8e2d-e698b736a064",
   "metadata": {},
   "outputs": [],
   "source": [
    "def check_accuracy(loader, model):\n",
    "    if loader.dataset.train:\n",
    "        print(\"Checking accuracy on training data\")\n",
    "    else:\n",
    "        print(\"Checking accuracy on test data\")\n",
    "        \n",
    "    num_correct = 0\n",
    "    num_samples = 0\n",
    "    model.eval()\n",
    "\n",
    "    with torch.no_grad():\n",
    "        for x, y in loader:\n",
    "            x = x.to(device=device)\n",
    "            y = y.to(device=device)\n",
    "            x = x.reshape(x.shape[0], -1)\n",
    "\n",
    "            scores = model(x)\n",
    "            _, predictions = scores.max(1)\n",
    "\n",
    "            num_correct += (predictions==y).sum()\n",
    "            num_samples += predictions.size(0)\n",
    "\n",
    "        print(f'Number of Correct: {num_correct}')\n",
    "        print(f'Number of Samples: {num_samples}')\n",
    "        accuracy = float(num_correct)/float(num_samples) * 100\n",
    "        print(f'Accuracy: {accuracy:.2f}')\n",
    "\n",
    "    # model.train()\n",
    "    # return acc"
   ]
  },
  {
   "cell_type": "code",
   "execution_count": 49,
   "id": "ea28cdc8-55a2-404b-bec4-5a4e0957cafe",
   "metadata": {},
   "outputs": [
    {
     "name": "stdout",
     "output_type": "stream",
     "text": [
      "Checking accuracy on training data\n",
      "Number of Correct: 59110\n",
      "Number of Samples: 60000\n",
      "Accuracy: 98.52\n",
      "Checking accuracy on test data\n",
      "Number of Correct: 9714\n",
      "Number of Samples: 10000\n",
      "Accuracy: 97.14\n"
     ]
    }
   ],
   "source": [
    "check_accuracy(train_loader, model)\n",
    "check_accuracy(test_loader, model)"
   ]
  },
  {
   "cell_type": "code",
   "execution_count": null,
   "id": "8bbc5720-b70b-4434-89e7-134c9659dbf1",
   "metadata": {},
   "outputs": [],
   "source": []
  }
 ],
 "metadata": {
  "kernelspec": {
   "display_name": "Python (rapids-24.10)",
   "language": "python",
   "name": "base"
  },
  "language_info": {
   "codemirror_mode": {
    "name": "ipython",
    "version": 3
   },
   "file_extension": ".py",
   "mimetype": "text/x-python",
   "name": "python",
   "nbconvert_exporter": "python",
   "pygments_lexer": "ipython3",
   "version": "3.10.15"
  }
 },
 "nbformat": 4,
 "nbformat_minor": 5
}
